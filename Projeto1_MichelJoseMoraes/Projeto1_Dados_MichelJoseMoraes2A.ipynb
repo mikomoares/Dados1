{
 "cells": [
  {
   "cell_type": "markdown",
   "metadata": {},
   "source": [
    "# Projeto 1 - Ciencia dos Dados "
   ]
  },
  {
   "cell_type": "markdown",
   "metadata": {},
   "source": [
    "Michel Jose Moraes - Engenharia 2A"
   ]
  },
  {
   "cell_type": "markdown",
   "metadata": {},
   "source": [
    "# Introdução"
   ]
  },
  {
   "cell_type": "markdown",
   "metadata": {},
   "source": [
    "Para iniciar o projeto, os dados foram retirados do site Gapminder.org/tools. "
   ]
  },
  {
   "cell_type": "code",
   "execution_count": 142,
   "metadata": {},
   "outputs": [],
   "source": [
    "#definindo nosso DataBase:\n",
    "\n",
    "#Imports:\n",
    "import pandas as pd\n",
    "import matplotlib.pyplot as plt\n",
    "import matplotlib\n",
    "\n",
    "#variaveis:\n",
    "dadoshdi = pd.read_excel('hdi.xlsx') #IDH dos países\n",
    "dadoscpw = pd.read_excel('cpw.xlsx') #Crianças por mulher dos países\n",
    "dadosgirls = pd.read_excel('girlsboys.xlsx') #Meninas por menino nas escolas dos países\n",
    "\n",
    "#pegando dados do ano 2000:\n",
    "hdi2000=dadoshdi.loc[:,[\"geo\", 2000]]\n",
    "cpw2000=dadoscpw.loc[:,[\"geo\", 2000]]\n",
    "girls2000=dadosgirls.loc[:,[\"geo\", 2000]]\n",
    "\n",
    "#renomeando:\n",
    "hdi2000 = hdi2000.set_index('geo')\n",
    "cpw2000 = cpw2000.set_index('geo')\n",
    "girls2000 = girls2000.set_index('geo')"
   ]
  },
  {
   "cell_type": "markdown",
   "metadata": {},
   "source": [
    "Unindo os 3 dados, obtemos o nosso DataFrame, com base no ano 2000."
   ]
  },
  {
   "cell_type": "code",
   "execution_count": 143,
   "metadata": {},
   "outputs": [],
   "source": [
    "#Juntando os 3 dados:\n",
    "\n",
    "data = hdi2000.join(cpw2000, how='inner', lsuffix='_hdi', rsuffix='_cpw')\n",
    "data = data.join(girls2000, how='inner')\n",
    "\n",
    "#renomeando as colunas:\n",
    "data['HDI'] = data.pop('2000_hdi')\n",
    "data['Cpw'] = data.pop('2000_cpw')\n",
    "data['Girls/boys(school)'] = data.pop(2000)"
   ]
  },
  {
   "cell_type": "markdown",
   "metadata": {},
   "source": [
    "Assim conseguimos nossa DataBase:"
   ]
  },
  {
   "cell_type": "code",
   "execution_count": 144,
   "metadata": {},
   "outputs": [
    {
     "data": {
      "text/html": [
       "<div>\n",
       "<style scoped>\n",
       "    .dataframe tbody tr th:only-of-type {\n",
       "        vertical-align: middle;\n",
       "    }\n",
       "\n",
       "    .dataframe tbody tr th {\n",
       "        vertical-align: top;\n",
       "    }\n",
       "\n",
       "    .dataframe thead th {\n",
       "        text-align: right;\n",
       "    }\n",
       "</style>\n",
       "<table border=\"1\" class=\"dataframe\">\n",
       "  <thead>\n",
       "    <tr style=\"text-align: right;\">\n",
       "      <th></th>\n",
       "      <th>HDI</th>\n",
       "      <th>Cpw</th>\n",
       "      <th>Girls/boys(school)</th>\n",
       "    </tr>\n",
       "    <tr>\n",
       "      <th>geo</th>\n",
       "      <th></th>\n",
       "      <th></th>\n",
       "      <th></th>\n",
       "    </tr>\n",
       "  </thead>\n",
       "  <tbody>\n",
       "    <tr>\n",
       "      <th>Albania</th>\n",
       "      <td>0.662</td>\n",
       "      <td>2.16</td>\n",
       "      <td>0.963</td>\n",
       "    </tr>\n",
       "    <tr>\n",
       "      <th>Algeria</th>\n",
       "      <td>0.644</td>\n",
       "      <td>2.51</td>\n",
       "      <td>0.964</td>\n",
       "    </tr>\n",
       "    <tr>\n",
       "      <th>Argentina</th>\n",
       "      <td>0.771</td>\n",
       "      <td>2.56</td>\n",
       "      <td>1.020</td>\n",
       "    </tr>\n",
       "    <tr>\n",
       "      <th>Armenia</th>\n",
       "      <td>0.644</td>\n",
       "      <td>1.30</td>\n",
       "      <td>1.070</td>\n",
       "    </tr>\n",
       "    <tr>\n",
       "      <th>Austria</th>\n",
       "      <td>0.837</td>\n",
       "      <td>1.37</td>\n",
       "      <td>0.970</td>\n",
       "    </tr>\n",
       "    <tr>\n",
       "      <th>Bahrain</th>\n",
       "      <td>0.794</td>\n",
       "      <td>2.77</td>\n",
       "      <td>1.030</td>\n",
       "    </tr>\n",
       "    <tr>\n",
       "      <th>Barbados</th>\n",
       "      <td>0.750</td>\n",
       "      <td>1.74</td>\n",
       "      <td>1.010</td>\n",
       "    </tr>\n",
       "    <tr>\n",
       "      <th>Belgium</th>\n",
       "      <td>0.873</td>\n",
       "      <td>1.63</td>\n",
       "      <td>1.060</td>\n",
       "    </tr>\n",
       "    <tr>\n",
       "      <th>Belize</th>\n",
       "      <td>0.677</td>\n",
       "      <td>3.60</td>\n",
       "      <td>0.985</td>\n",
       "    </tr>\n",
       "    <tr>\n",
       "      <th>Benin</th>\n",
       "      <td>0.395</td>\n",
       "      <td>5.96</td>\n",
       "      <td>0.633</td>\n",
       "    </tr>\n",
       "    <tr>\n",
       "      <th>Bolivia</th>\n",
       "      <td>0.607</td>\n",
       "      <td>4.06</td>\n",
       "      <td>0.953</td>\n",
       "    </tr>\n",
       "    <tr>\n",
       "      <th>Botswana</th>\n",
       "      <td>0.560</td>\n",
       "      <td>3.39</td>\n",
       "      <td>1.020</td>\n",
       "    </tr>\n",
       "    <tr>\n",
       "      <th>Brunei</th>\n",
       "      <td>0.819</td>\n",
       "      <td>2.22</td>\n",
       "      <td>0.982</td>\n",
       "    </tr>\n",
       "    <tr>\n",
       "      <th>Bulgaria</th>\n",
       "      <td>0.713</td>\n",
       "      <td>1.18</td>\n",
       "      <td>0.977</td>\n",
       "    </tr>\n",
       "    <tr>\n",
       "      <th>Cambodia</th>\n",
       "      <td>0.412</td>\n",
       "      <td>3.81</td>\n",
       "      <td>0.818</td>\n",
       "    </tr>\n",
       "    <tr>\n",
       "      <th>Canada</th>\n",
       "      <td>0.867</td>\n",
       "      <td>1.52</td>\n",
       "      <td>1.010</td>\n",
       "    </tr>\n",
       "    <tr>\n",
       "      <th>Chad</th>\n",
       "      <td>0.300</td>\n",
       "      <td>7.35</td>\n",
       "      <td>0.563</td>\n",
       "    </tr>\n",
       "    <tr>\n",
       "      <th>Chile</th>\n",
       "      <td>0.761</td>\n",
       "      <td>2.11</td>\n",
       "      <td>0.995</td>\n",
       "    </tr>\n",
       "    <tr>\n",
       "      <th>Colombia</th>\n",
       "      <td>0.653</td>\n",
       "      <td>2.39</td>\n",
       "      <td>1.040</td>\n",
       "    </tr>\n",
       "    <tr>\n",
       "      <th>Costa Rica</th>\n",
       "      <td>0.708</td>\n",
       "      <td>2.37</td>\n",
       "      <td>1.000</td>\n",
       "    </tr>\n",
       "    <tr>\n",
       "      <th>Croatia</th>\n",
       "      <td>0.749</td>\n",
       "      <td>1.44</td>\n",
       "      <td>1.010</td>\n",
       "    </tr>\n",
       "    <tr>\n",
       "      <th>Cuba</th>\n",
       "      <td>0.686</td>\n",
       "      <td>1.62</td>\n",
       "      <td>0.989</td>\n",
       "    </tr>\n",
       "    <tr>\n",
       "      <th>Cyprus</th>\n",
       "      <td>0.800</td>\n",
       "      <td>1.72</td>\n",
       "      <td>1.010</td>\n",
       "    </tr>\n",
       "    <tr>\n",
       "      <th>Czech Republic</th>\n",
       "      <td>0.821</td>\n",
       "      <td>1.12</td>\n",
       "      <td>1.010</td>\n",
       "    </tr>\n",
       "    <tr>\n",
       "      <th>Denmark</th>\n",
       "      <td>0.862</td>\n",
       "      <td>1.77</td>\n",
       "      <td>1.020</td>\n",
       "    </tr>\n",
       "    <tr>\n",
       "      <th>Djibouti</th>\n",
       "      <td>0.363</td>\n",
       "      <td>4.48</td>\n",
       "      <td>0.714</td>\n",
       "    </tr>\n",
       "    <tr>\n",
       "      <th>Dominican Republic</th>\n",
       "      <td>0.656</td>\n",
       "      <td>2.89</td>\n",
       "      <td>1.040</td>\n",
       "    </tr>\n",
       "    <tr>\n",
       "      <th>Ecuador</th>\n",
       "      <td>0.670</td>\n",
       "      <td>3.03</td>\n",
       "      <td>1.000</td>\n",
       "    </tr>\n",
       "    <tr>\n",
       "      <th>Egypt</th>\n",
       "      <td>0.612</td>\n",
       "      <td>3.23</td>\n",
       "      <td>0.933</td>\n",
       "    </tr>\n",
       "    <tr>\n",
       "      <th>El Salvador</th>\n",
       "      <td>0.615</td>\n",
       "      <td>3.02</td>\n",
       "      <td>0.950</td>\n",
       "    </tr>\n",
       "    <tr>\n",
       "      <th>...</th>\n",
       "      <td>...</td>\n",
       "      <td>...</td>\n",
       "      <td>...</td>\n",
       "    </tr>\n",
       "    <tr>\n",
       "      <th>Romania</th>\n",
       "      <td>0.708</td>\n",
       "      <td>1.31</td>\n",
       "      <td>1.010</td>\n",
       "    </tr>\n",
       "    <tr>\n",
       "      <th>Rwanda</th>\n",
       "      <td>0.332</td>\n",
       "      <td>5.64</td>\n",
       "      <td>0.942</td>\n",
       "    </tr>\n",
       "    <tr>\n",
       "      <th>Samoa</th>\n",
       "      <td>0.645</td>\n",
       "      <td>4.50</td>\n",
       "      <td>1.070</td>\n",
       "    </tr>\n",
       "    <tr>\n",
       "      <th>Senegal</th>\n",
       "      <td>0.381</td>\n",
       "      <td>5.47</td>\n",
       "      <td>0.821</td>\n",
       "    </tr>\n",
       "    <tr>\n",
       "      <th>Serbia</th>\n",
       "      <td>0.709</td>\n",
       "      <td>1.77</td>\n",
       "      <td>1.010</td>\n",
       "    </tr>\n",
       "    <tr>\n",
       "      <th>Seychelles</th>\n",
       "      <td>0.714</td>\n",
       "      <td>2.15</td>\n",
       "      <td>1.060</td>\n",
       "    </tr>\n",
       "    <tr>\n",
       "      <th>Slovak Republic</th>\n",
       "      <td>0.763</td>\n",
       "      <td>1.27</td>\n",
       "      <td>1.010</td>\n",
       "    </tr>\n",
       "    <tr>\n",
       "      <th>Slovenia</th>\n",
       "      <td>0.824</td>\n",
       "      <td>1.21</td>\n",
       "      <td>1.030</td>\n",
       "    </tr>\n",
       "    <tr>\n",
       "      <th>Solomon Islands</th>\n",
       "      <td>0.442</td>\n",
       "      <td>4.72</td>\n",
       "      <td>0.890</td>\n",
       "    </tr>\n",
       "    <tr>\n",
       "      <th>South Africa</th>\n",
       "      <td>0.629</td>\n",
       "      <td>2.83</td>\n",
       "      <td>1.000</td>\n",
       "    </tr>\n",
       "    <tr>\n",
       "      <th>South Korea</th>\n",
       "      <td>0.820</td>\n",
       "      <td>1.35</td>\n",
       "      <td>1.010</td>\n",
       "    </tr>\n",
       "    <tr>\n",
       "      <th>Spain</th>\n",
       "      <td>0.825</td>\n",
       "      <td>1.23</td>\n",
       "      <td>1.030</td>\n",
       "    </tr>\n",
       "    <tr>\n",
       "      <th>St. Lucia</th>\n",
       "      <td>0.684</td>\n",
       "      <td>2.20</td>\n",
       "      <td>1.060</td>\n",
       "    </tr>\n",
       "    <tr>\n",
       "      <th>St. Vincent and the Grenadines</th>\n",
       "      <td>0.673</td>\n",
       "      <td>2.38</td>\n",
       "      <td>1.060</td>\n",
       "    </tr>\n",
       "    <tr>\n",
       "      <th>Swaziland</th>\n",
       "      <td>0.506</td>\n",
       "      <td>4.19</td>\n",
       "      <td>0.955</td>\n",
       "    </tr>\n",
       "    <tr>\n",
       "      <th>Sweden</th>\n",
       "      <td>0.877</td>\n",
       "      <td>1.56</td>\n",
       "      <td>1.150</td>\n",
       "    </tr>\n",
       "    <tr>\n",
       "      <th>Switzerland</th>\n",
       "      <td>0.888</td>\n",
       "      <td>1.44</td>\n",
       "      <td>0.967</td>\n",
       "    </tr>\n",
       "    <tr>\n",
       "      <th>Syria</th>\n",
       "      <td>0.589</td>\n",
       "      <td>4.04</td>\n",
       "      <td>0.923</td>\n",
       "    </tr>\n",
       "    <tr>\n",
       "      <th>Tajikistan</th>\n",
       "      <td>0.535</td>\n",
       "      <td>3.91</td>\n",
       "      <td>0.888</td>\n",
       "    </tr>\n",
       "    <tr>\n",
       "      <th>Togo</th>\n",
       "      <td>0.426</td>\n",
       "      <td>5.41</td>\n",
       "      <td>0.693</td>\n",
       "    </tr>\n",
       "    <tr>\n",
       "      <th>Tonga</th>\n",
       "      <td>0.674</td>\n",
       "      <td>4.25</td>\n",
       "      <td>1.020</td>\n",
       "    </tr>\n",
       "    <tr>\n",
       "      <th>Tunisia</th>\n",
       "      <td>0.654</td>\n",
       "      <td>2.14</td>\n",
       "      <td>0.981</td>\n",
       "    </tr>\n",
       "    <tr>\n",
       "      <th>Turkey</th>\n",
       "      <td>0.653</td>\n",
       "      <td>2.50</td>\n",
       "      <td>0.819</td>\n",
       "    </tr>\n",
       "    <tr>\n",
       "      <th>Ukraine</th>\n",
       "      <td>0.673</td>\n",
       "      <td>1.15</td>\n",
       "      <td>1.010</td>\n",
       "    </tr>\n",
       "    <tr>\n",
       "      <th>United Kingdom</th>\n",
       "      <td>0.866</td>\n",
       "      <td>1.68</td>\n",
       "      <td>1.010</td>\n",
       "    </tr>\n",
       "    <tr>\n",
       "      <th>United States</th>\n",
       "      <td>0.884</td>\n",
       "      <td>2.05</td>\n",
       "      <td>0.996</td>\n",
       "    </tr>\n",
       "    <tr>\n",
       "      <th>Uruguay</th>\n",
       "      <td>0.742</td>\n",
       "      <td>2.24</td>\n",
       "      <td>1.050</td>\n",
       "    </tr>\n",
       "    <tr>\n",
       "      <th>Uzbekistan</th>\n",
       "      <td>0.594</td>\n",
       "      <td>2.74</td>\n",
       "      <td>0.983</td>\n",
       "    </tr>\n",
       "    <tr>\n",
       "      <th>Venezuela</th>\n",
       "      <td>0.672</td>\n",
       "      <td>2.82</td>\n",
       "      <td>1.050</td>\n",
       "    </tr>\n",
       "    <tr>\n",
       "      <th>Zimbabwe</th>\n",
       "      <td>0.427</td>\n",
       "      <td>4.06</td>\n",
       "      <td>0.947</td>\n",
       "    </tr>\n",
       "  </tbody>\n",
       "</table>\n",
       "<p>119 rows × 3 columns</p>\n",
       "</div>"
      ],
      "text/plain": [
       "                                  HDI   Cpw  Girls/boys(school)\n",
       "geo                                                            \n",
       "Albania                         0.662  2.16               0.963\n",
       "Algeria                         0.644  2.51               0.964\n",
       "Argentina                       0.771  2.56               1.020\n",
       "Armenia                         0.644  1.30               1.070\n",
       "Austria                         0.837  1.37               0.970\n",
       "Bahrain                         0.794  2.77               1.030\n",
       "Barbados                        0.750  1.74               1.010\n",
       "Belgium                         0.873  1.63               1.060\n",
       "Belize                          0.677  3.60               0.985\n",
       "Benin                           0.395  5.96               0.633\n",
       "Bolivia                         0.607  4.06               0.953\n",
       "Botswana                        0.560  3.39               1.020\n",
       "Brunei                          0.819  2.22               0.982\n",
       "Bulgaria                        0.713  1.18               0.977\n",
       "Cambodia                        0.412  3.81               0.818\n",
       "Canada                          0.867  1.52               1.010\n",
       "Chad                            0.300  7.35               0.563\n",
       "Chile                           0.761  2.11               0.995\n",
       "Colombia                        0.653  2.39               1.040\n",
       "Costa Rica                      0.708  2.37               1.000\n",
       "Croatia                         0.749  1.44               1.010\n",
       "Cuba                            0.686  1.62               0.989\n",
       "Cyprus                          0.800  1.72               1.010\n",
       "Czech Republic                  0.821  1.12               1.010\n",
       "Denmark                         0.862  1.77               1.020\n",
       "Djibouti                        0.363  4.48               0.714\n",
       "Dominican Republic              0.656  2.89               1.040\n",
       "Ecuador                         0.670  3.03               1.000\n",
       "Egypt                           0.612  3.23               0.933\n",
       "El Salvador                     0.615  3.02               0.950\n",
       "...                               ...   ...                 ...\n",
       "Romania                         0.708  1.31               1.010\n",
       "Rwanda                          0.332  5.64               0.942\n",
       "Samoa                           0.645  4.50               1.070\n",
       "Senegal                         0.381  5.47               0.821\n",
       "Serbia                          0.709  1.77               1.010\n",
       "Seychelles                      0.714  2.15               1.060\n",
       "Slovak Republic                 0.763  1.27               1.010\n",
       "Slovenia                        0.824  1.21               1.030\n",
       "Solomon Islands                 0.442  4.72               0.890\n",
       "South Africa                    0.629  2.83               1.000\n",
       "South Korea                     0.820  1.35               1.010\n",
       "Spain                           0.825  1.23               1.030\n",
       "St. Lucia                       0.684  2.20               1.060\n",
       "St. Vincent and the Grenadines  0.673  2.38               1.060\n",
       "Swaziland                       0.506  4.19               0.955\n",
       "Sweden                          0.877  1.56               1.150\n",
       "Switzerland                     0.888  1.44               0.967\n",
       "Syria                           0.589  4.04               0.923\n",
       "Tajikistan                      0.535  3.91               0.888\n",
       "Togo                            0.426  5.41               0.693\n",
       "Tonga                           0.674  4.25               1.020\n",
       "Tunisia                         0.654  2.14               0.981\n",
       "Turkey                          0.653  2.50               0.819\n",
       "Ukraine                         0.673  1.15               1.010\n",
       "United Kingdom                  0.866  1.68               1.010\n",
       "United States                   0.884  2.05               0.996\n",
       "Uruguay                         0.742  2.24               1.050\n",
       "Uzbekistan                      0.594  2.74               0.983\n",
       "Venezuela                       0.672  2.82               1.050\n",
       "Zimbabwe                        0.427  4.06               0.947\n",
       "\n",
       "[119 rows x 3 columns]"
      ]
     },
     "execution_count": 144,
     "metadata": {},
     "output_type": "execute_result"
    }
   ],
   "source": [
    "data = data.dropna(axis= \"index\" )\n",
    "data"
   ]
  },
  {
   "cell_type": "markdown",
   "metadata": {},
   "source": [
    "# O quanto a igualdade de gênero nas escolas influencia, ou é influenciada pelo IDH de um país?"
   ]
  },
  {
   "cell_type": "markdown",
   "metadata": {},
   "source": [
    "A ánalise à ser feita sobre os dados de número de bebes por mulher em um país, e taxa de mulher por homem nas escolas recebeu, como base, o ano 2000. "
   ]
  },
  {
   "cell_type": "markdown",
   "metadata": {},
   "source": [
    "# Ánalise"
   ]
  },
  {
   "cell_type": "markdown",
   "metadata": {},
   "source": [
    "# Gráfico 1\n",
    "\n",
    " Primeiro, no gráfico abaixo, pode-se perceber se o número de meninas por meninos na escola é influenciado pelo idh. Para isso, foi utilizado um gráfico de disperção, por se tratar de duas variaveis quantitativas."
   ]
  },
  {
   "cell_type": "code",
   "execution_count": 145,
   "metadata": {},
   "outputs": [
    {
     "data": {
      "text/plain": [
       "<matplotlib.axes._subplots.AxesSubplot at 0x1dc76d23278>"
      ]
     },
     "execution_count": 145,
     "metadata": {},
     "output_type": "execute_result"
    },
    {
     "data": {
      "image/png": "[encoded data removed]",
      "text/plain": [
       "<matplotlib.figure.Figure at 0x1dc76d009e8>"
      ]
     },
     "metadata": {},
     "output_type": "display_data"
    }
   ],
   "source": [
    "data.plot.scatter(y=\"HDI\", x = \"Girls/boys(school)\", title=\"IDH por Taxa de Meninas por Meninos na Escola\")"
   ]
  },
  {
   "cell_type": "markdown",
   "metadata": {},
   "source": [
    "Ao analisar o gráfico 1, pode-se notar que os países com a taxa de meninas por meninos na escola é mais próxima de 1, ou seja, número semelhante de meninos e meninas na escola, possuem um IDH, em geral, mais elevado do que os países com uma notável diferença de estudos entre os gêneros.\n",
    "\n",
    "A diferença total da população masculina e feminina não é igual em todos os países, e por isso, e outros fatores, existe uma taxa de erro nesta análise para alguns países. Porém poucos países com uma alta desigualdade entre gêneros estudando possuem um IDH elevado, enquanto os que não possuem, estão agrupados nas faixas de IDH médio, e alto.\n",
    "\n",
    "Podemos imaginar, então, que quanto mais as mulheres estudam e, muitas vezes, pretendem ser econômicamente ativas, mais o IDH do país é positivamente influênciado."
   ]
  },
  {
   "cell_type": "markdown",
   "metadata": {},
   "source": [
    "# Gráfico 2 \n",
    "\n",
    "No gráfico de disperção abaixo, é possível ver o cruzamento de dados de IDH, e de número de crianças por mulher de cada país:\n",
    "\n"
   ]
  },
  {
   "cell_type": "code",
   "execution_count": 146,
   "metadata": {},
   "outputs": [
    {
     "data": {
      "text/plain": [
       "<matplotlib.axes._subplots.AxesSubplot at 0x1dc76b03f60>"
      ]
     },
     "execution_count": 146,
     "metadata": {},
     "output_type": "execute_result"
    },
    {
     "data": {
      "image/png": "[encoded data removed]",
      "text/plain": [
       "<matplotlib.figure.Figure at 0x1dc76cf2978>"
      ]
     },
     "metadata": {},
     "output_type": "display_data"
    }
   ],
   "source": [
    "data.plot.scatter(y=\"HDI\", x = \"Cpw\", title=\"IDH por Número de Crianças por Mulher\")"
   ]
  },
  {
   "cell_type": "markdown",
   "metadata": {},
   "source": [
    "No gráfico é possível observar que, em geral, quanto maior a quantidade de filhos por mulher em um país, menor é o IDH. Esse fenômeno é muito estudado quando se fala de pirâmide etária.\n",
    "\n",
    "Quando um país tem uma taxa de natalidade muito alta, o IDH dele acaba ficando menor pelo fato de que, a longo prazo acaba ocorrendo uma superpopulação, e uma sobrecarga na população econômicamente ativa do país. \n",
    "\n",
    "O contrário também é real. Quando um país tem um alto IDH, o ensino e saúde dele são de nível mais alto, tendo assim, uma grande sabedoria sobre gravidez indesejada, e acesso a recursos contraceptivos, e uma diminuição na idéia de ter filhos para sustentar os pais. Diminuindo assim a natalidade. Portanto essas dois fatores acabam criando um ciclo."
   ]
  },
  {
   "cell_type": "markdown",
   "metadata": {},
   "source": [
    "# Gráfico 3 \n",
    "\n",
    "Sabendo que o IDH é influenciado pela taxa de natalidade, e tem alguma relação com a igualdade de gêneros nas escolas, é bem rasoável imaginar que o número de crianças por mulher também é influenciado pelo número de mulheres que frequentam a escola. Isso pode ser observado no gráfico abaixo:"
   ]
  },
  {
   "cell_type": "code",
   "execution_count": 147,
   "metadata": {},
   "outputs": [
    {
     "data": {
      "text/plain": [
       "<matplotlib.axes._subplots.AxesSubplot at 0x1dc769c7400>"
      ]
     },
     "execution_count": 147,
     "metadata": {},
     "output_type": "execute_result"
    },
    {
     "data": {
      "image/png": "[encoded data removed]",
      "text/plain": [
       "<matplotlib.figure.Figure at 0x1dc76927588>"
      ]
     },
     "metadata": {},
     "output_type": "display_data"
    }
   ],
   "source": [
    "data.plot.scatter(y=\"Cpw\", x = \"Girls/boys(school)\", title= \"Cpw por Taxa Menina/Menino na Escola\")"
   ]
  },
  {
   "cell_type": "markdown",
   "metadata": {},
   "source": [
    "Apesar da taxa de erro já mencionada, o comportamento é como o esperado."
   ]
  },
  {
   "cell_type": "markdown",
   "metadata": {},
   "source": [
    "# Conclusão"
   ]
  },
  {
   "cell_type": "markdown",
   "metadata": {},
   "source": [
    "Tendo em mente esses fatos, podemos imaginar que o IDH tem alguma relação não só com a diferença entre meninos e meninas nas escolas, mas também com o numero de filhos que cada mulher no país tem. \n",
    "Abaixo uma tabela de correlação entre os dados é gerada:"
   ]
  },
  {
   "cell_type": "code",
   "execution_count": 148,
   "metadata": {},
   "outputs": [
    {
     "data": {
      "text/html": [
       "<div>\n",
       "<style scoped>\n",
       "    .dataframe tbody tr th:only-of-type {\n",
       "        vertical-align: middle;\n",
       "    }\n",
       "\n",
       "    .dataframe tbody tr th {\n",
       "        vertical-align: top;\n",
       "    }\n",
       "\n",
       "    .dataframe thead th {\n",
       "        text-align: right;\n",
       "    }\n",
       "</style>\n",
       "<table border=\"1\" class=\"dataframe\">\n",
       "  <thead>\n",
       "    <tr style=\"text-align: right;\">\n",
       "      <th></th>\n",
       "      <th>HDI</th>\n",
       "      <th>Cpw</th>\n",
       "      <th>Girls/boys(school)</th>\n",
       "    </tr>\n",
       "  </thead>\n",
       "  <tbody>\n",
       "    <tr>\n",
       "      <th>HDI</th>\n",
       "      <td>1.000000</td>\n",
       "      <td>-0.849050</td>\n",
       "      <td>0.704071</td>\n",
       "    </tr>\n",
       "    <tr>\n",
       "      <th>Cpw</th>\n",
       "      <td>-0.849050</td>\n",
       "      <td>1.000000</td>\n",
       "      <td>-0.736202</td>\n",
       "    </tr>\n",
       "    <tr>\n",
       "      <th>Girls/boys(school)</th>\n",
       "      <td>0.704071</td>\n",
       "      <td>-0.736202</td>\n",
       "      <td>1.000000</td>\n",
       "    </tr>\n",
       "  </tbody>\n",
       "</table>\n",
       "</div>"
      ],
      "text/plain": [
       "                         HDI       Cpw  Girls/boys(school)\n",
       "HDI                 1.000000 -0.849050            0.704071\n",
       "Cpw                -0.849050  1.000000           -0.736202\n",
       "Girls/boys(school)  0.704071 -0.736202            1.000000"
      ]
     },
     "execution_count": 148,
     "metadata": {},
     "output_type": "execute_result"
    }
   ],
   "source": [
    "data.corr()"
   ]
  },
  {
   "cell_type": "markdown",
   "metadata": {},
   "source": [
    "Pode-se notar que todos eles tem um indicie de correlação elevado. Porem, ao analisar este fato mais profundamente, se percebe que os dados de meninas/meninos na escola tem menos correlação com os outros dados, e isto é pelo fato de que muitos paises possuem um valor perto de 1, formando uma tendencia para cima, que não segue a reta estabelecida ao usar este método. Sendo assim, mesmo com um indice de correlação diminuido, a relação entre IDH e igualdade de gêneros nas escolas é alta, considerando que está tendencia para cima próximo ao valor 1, só indica que o aglomerado de países com essa igualdade possuem um IDH elevado.\n",
    "\n",
    "Ao aceitar que esses 3 dados tem relação, podemos fazer uma análise mais profunda do por que de isso acontecer. \n",
    "Como dito anteriormente, um IDH baixo faz com que mulheres tenham mais filhos, e vice versa, e em um país com IDH alto, mulheres acabam frequentando mais a escola pela melhor qualidade da educação. Mas se formos pensar nestes 3 dados como um só, é possível imaginar que em países com um IDH elevado, as mulheres vão querer, e poder, estudar, o que faz com que elas tenham menos tempo para cuidar das tarefas de casa, tendo menos filhos, que, como já havia sido discutido, ajuda a longo prazo à não sobrecarregar a população economicamente ativa, e assim elevar o IDH. \n",
    "\n",
    "Conclui-se, assim, que usamos 3 aspectos de um país que formam um ciclo, influenciando um ao outro, e que o inverso também é real. "
   ]
  },
  {
   "cell_type": "markdown",
   "metadata": {},
   "source": [
    "Para finalizar, ao utilizar um outro ano base, observa-se que as conclusões retiradas do ano de 2000 se repetem:"
   ]
  },
  {
   "cell_type": "code",
   "execution_count": 158,
   "metadata": {},
   "outputs": [
    {
     "data": {
      "image/png": "[encoded data removed]",
      "text/plain": [
       "<matplotlib.figure.Figure at 0x1dc7707e400>"
      ]
     },
     "metadata": {},
     "output_type": "display_data"
    }
   ],
   "source": [
    "#pegando dados do ano 2008:\n",
    "hdi2008=dadoshdi.loc[:,[\"geo\", 2008]]\n",
    "cpw2008=dadoscpw.loc[:,[\"geo\", 2008]]\n",
    "girls2008=dadosgirls.loc[:,[\"geo\", 2008]]\n",
    "\n",
    "#renomeando:\n",
    "hdi2008 = hdi2008.set_index('geo')\n",
    "cpw2008 = cpw2008.set_index('geo')\n",
    "girls2008 = girls2008.set_index('geo')\n",
    "\n",
    "#Juntando os 3 dados:\n",
    "data2 = hdi2008.join(cpw2008, how='inner', lsuffix='_hdi', rsuffix='_cpw')\n",
    "data2 = data2.join(girls2008, how='inner')\n",
    "\n",
    "#renomeando as colunas:\n",
    "\n",
    "data2[\"HDI\"]=data2.pop(\"2008_hdi\")\n",
    "data2[\"CpW\"]=data2.pop(\"2008_cpw\")\n",
    "data2[\"Girls/Boys\"]=data2.pop(2008)\n",
    "\n",
    "pd.plotting.scatter_matrix(data2);"
   ]
  },
  {
   "cell_type": "code",
   "execution_count": null,
   "metadata": {},
   "outputs": [],
   "source": []
  }
 ],
 "metadata": {
  "kernelspec": {
   "display_name": "Python 3",
   "language": "python",
   "name": "python3"
  },
  "language_info": {
   "codemirror_mode": {
    "name": "ipython",
    "version": 3
   },
   "file_extension": ".py",
   "mimetype": "text/x-python",
   "name": "python",
   "nbconvert_exporter": "python",
   "pygments_lexer": "ipython3",
   "version": "3.6.4"
  }
 },
 "nbformat": 4,
 "nbformat_minor": 2
}
